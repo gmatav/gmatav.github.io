{
 "cells": [
  {
   "cell_type": "code",
   "execution_count": 1,
   "id": "5a00b42b-ea42-4b7a-bbfa-479f8c740907",
   "metadata": {},
   "outputs": [
    {
     "name": "stdout",
     "output_type": "stream",
     "text": [
      "Requirement already satisfied: plotly in c:\\users\\guill\\anaconda3\\envs\\environment_uoc20232pec2\\lib\\site-packages (5.20.0)\n",
      "Requirement already satisfied: tenacity>=6.2.0 in c:\\users\\guill\\anaconda3\\envs\\environment_uoc20232pec2\\lib\\site-packages (from plotly) (8.2.3)\n",
      "Requirement already satisfied: packaging in c:\\users\\guill\\anaconda3\\envs\\environment_uoc20232pec2\\lib\\site-packages (from plotly) (23.2)\n",
      "Note: you may need to restart the kernel to use updated packages.\n",
      "Requirement already satisfied: joypy in c:\\users\\guill\\anaconda3\\envs\\environment_uoc20232pec2\\lib\\site-packages (0.2.6)\n",
      "Requirement already satisfied: numpy>=1.16.5 in c:\\users\\guill\\anaconda3\\envs\\environment_uoc20232pec2\\lib\\site-packages (from joypy) (1.26.4)\n",
      "Requirement already satisfied: scipy>=0.11.0 in c:\\users\\guill\\anaconda3\\envs\\environment_uoc20232pec2\\lib\\site-packages (from joypy) (1.12.0)\n",
      "Requirement already satisfied: pandas>=0.20.0 in c:\\users\\guill\\anaconda3\\envs\\environment_uoc20232pec2\\lib\\site-packages (from joypy) (2.2.1)\n",
      "Requirement already satisfied: matplotlib in c:\\users\\guill\\anaconda3\\envs\\environment_uoc20232pec2\\lib\\site-packages (from joypy) (3.8.0)\n",
      "Requirement already satisfied: python-dateutil>=2.8.2 in c:\\users\\guill\\anaconda3\\envs\\environment_uoc20232pec2\\lib\\site-packages (from pandas>=0.20.0->joypy) (2.8.2)\n",
      "Requirement already satisfied: pytz>=2020.1 in c:\\users\\guill\\anaconda3\\envs\\environment_uoc20232pec2\\lib\\site-packages (from pandas>=0.20.0->joypy) (2023.3.post1)\n",
      "Requirement already satisfied: tzdata>=2022.7 in c:\\users\\guill\\anaconda3\\envs\\environment_uoc20232pec2\\lib\\site-packages (from pandas>=0.20.0->joypy) (2023.3)\n",
      "Requirement already satisfied: contourpy>=1.0.1 in c:\\users\\guill\\anaconda3\\envs\\environment_uoc20232pec2\\lib\\site-packages (from matplotlib->joypy) (1.2.0)\n",
      "Requirement already satisfied: cycler>=0.10 in c:\\users\\guill\\anaconda3\\envs\\environment_uoc20232pec2\\lib\\site-packages (from matplotlib->joypy) (0.11.0)\n",
      "Requirement already satisfied: fonttools>=4.22.0 in c:\\users\\guill\\anaconda3\\envs\\environment_uoc20232pec2\\lib\\site-packages (from matplotlib->joypy) (4.25.0)\n",
      "Requirement already satisfied: kiwisolver>=1.0.1 in c:\\users\\guill\\anaconda3\\envs\\environment_uoc20232pec2\\lib\\site-packages (from matplotlib->joypy) (1.4.4)\n",
      "Requirement already satisfied: packaging>=20.0 in c:\\users\\guill\\anaconda3\\envs\\environment_uoc20232pec2\\lib\\site-packages (from matplotlib->joypy) (23.2)\n",
      "Requirement already satisfied: pillow>=6.2.0 in c:\\users\\guill\\anaconda3\\envs\\environment_uoc20232pec2\\lib\\site-packages (from matplotlib->joypy) (10.2.0)\n",
      "Requirement already satisfied: pyparsing>=2.3.1 in c:\\users\\guill\\anaconda3\\envs\\environment_uoc20232pec2\\lib\\site-packages (from matplotlib->joypy) (3.0.9)\n",
      "Requirement already satisfied: six>=1.5 in c:\\users\\guill\\anaconda3\\envs\\environment_uoc20232pec2\\lib\\site-packages (from python-dateutil>=2.8.2->pandas>=0.20.0->joypy) (1.16.0)\n",
      "Note: you may need to restart the kernel to use updated packages.\n",
      "Requirement already satisfied: openpyxl in c:\\users\\guill\\anaconda3\\envs\\environment_uoc20232pec2\\lib\\site-packages (3.1.2)\n",
      "Requirement already satisfied: et-xmlfile in c:\\users\\guill\\anaconda3\\envs\\environment_uoc20232pec2\\lib\\site-packages (from openpyxl) (1.1.0)\n",
      "Note: you may need to restart the kernel to use updated packages.\n"
     ]
    }
   ],
   "source": [
    "%pip install plotly\n",
    "%pip install joypy\n",
    "%pip install openpyxl"
   ]
  },
  {
   "cell_type": "code",
   "execution_count": 2,
   "id": "578af7d7-f44a-4226-9193-4c0f3e598163",
   "metadata": {},
   "outputs": [],
   "source": [
    "import plotly.express as px\n",
    "import pandas as pd\n"
   ]
  },
  {
   "cell_type": "code",
   "execution_count": 5,
   "id": "1504ad8e-9d62-462d-8a46-328454b545b7",
   "metadata": {
    "scrolled": true
   },
   "outputs": [
    {
     "data": {
      "application/vnd.plotly.v1+json": {
       "config": {
        "plotlyServerURL": "https://plot.ly"
       },
       "data": [
        {
         "branchvalues": "total",
         "customdata": [
          [
           "FP Grado Superior"
          ],
          [
           "FP Grado Superior"
          ],
          [
           "FP Grado Medio"
          ],
          [
           "FP Grado Medio"
          ],
          [
           "Total FP"
          ],
          [
           "Hasta educación obligatoria"
          ],
          [
           "Hasta educación obligatoria"
          ],
          [
           "Total FP"
          ],
          [
           "FP Básica"
          ],
          [
           "FP Básica"
          ],
          [
           "FP Grado Medio"
          ],
          [
           "FP Grado Medio"
          ],
          [
           "FP Grado Superior"
          ],
          [
           "FP Grado Superior"
          ],
          [
           "Hasta educación obligatoria"
          ],
          [
           "Hasta educación obligatoria"
          ],
          [
           "Total FP"
          ],
          [
           "Bachillerato"
          ],
          [
           "Bachillerato"
          ],
          [
           "Total FP"
          ],
          [
           "Educación Universitaria"
          ],
          [
           "FP Básica"
          ],
          [
           "FP Básica"
          ],
          [
           "Educación Universitaria"
          ],
          [
           "Educación Universitaria"
          ],
          [
           "Educación Universitaria"
          ],
          [
           "Bachillerato"
          ],
          [
           "Bachillerato"
          ],
          [
           "Bachillerato"
          ],
          [
           "Bachillerato"
          ],
          [
           "Educación Universitaria"
          ],
          [
           "Educación Universitaria"
          ],
          [
           "FP Básica"
          ],
          [
           "FP Básica"
          ],
          [
           "FP Grado Medio"
          ],
          [
           "FP Grado Medio"
          ],
          [
           "FP Grado Superior"
          ],
          [
           "FP Grado Superior"
          ],
          [
           "Hasta educación obligatoria"
          ],
          [
           "Hasta educación obligatoria"
          ],
          [
           "Total FP"
          ],
          [
           "Total FP"
          ],
          [
           "(?)"
          ],
          [
           "(?)"
          ]
         ],
         "domain": {
          "x": [
           0,
           1
          ],
          "y": [
           0,
           1
          ]
         },
         "hovertemplate": "labels=%{label}<br>Tasa_paro=%{value}<br>parent=%{parent}<br>id=%{id}<br>Nivel_educativo=%{customdata[0]}<extra></extra>",
         "ids": [
          "Mujeres/FP Grado Superior/26-35 años",
          "Hombres/FP Grado Superior/26-35 años",
          "Mujeres/FP Grado Medio/26-35 años",
          "Hombres/FP Grado Medio/26-35 años",
          "Mujeres/Total FP/26-35 años",
          "Mujeres/Hasta educación obligatoria/26-35 años",
          "Hombres/Hasta educación obligatoria/26-35 años",
          "Hombres/Total FP/26-35 años",
          "Hombres/FP Básica/16-25 años",
          "Mujeres/FP Básica/16-25 años",
          "Hombres/FP Grado Medio/16-25 años",
          "Mujeres/FP Grado Medio/16-25 años",
          "Hombres/FP Grado Superior/16-25 años",
          "Mujeres/FP Grado Superior/16-25 años",
          "Hombres/Hasta educación obligatoria/16-25 años",
          "Mujeres/Hasta educación obligatoria/16-25 años",
          "Mujeres/Total FP/16-25 años",
          "Mujeres/Bachillerato/26-35 años",
          "Hombres/Bachillerato/26-35 años",
          "Hombres/Total FP/16-25 años",
          "Mujeres/Educación Universitaria/26-35 años",
          "Hombres/FP Básica/26-35 años",
          "Mujeres/FP Básica/26-35 años",
          "Hombres/Educación Universitaria/26-35 años",
          "Mujeres/Educación Universitaria/16-25 años",
          "Hombres/Educación Universitaria/16-25 años",
          "Mujeres/Bachillerato/16-25 años",
          "Hombres/Bachillerato/16-25 años",
          "Hombres/Bachillerato",
          "Mujeres/Bachillerato",
          "Hombres/Educación Universitaria",
          "Mujeres/Educación Universitaria",
          "Hombres/FP Básica",
          "Mujeres/FP Básica",
          "Hombres/FP Grado Medio",
          "Mujeres/FP Grado Medio",
          "Hombres/FP Grado Superior",
          "Mujeres/FP Grado Superior",
          "Hombres/Hasta educación obligatoria",
          "Mujeres/Hasta educación obligatoria",
          "Hombres/Total FP",
          "Mujeres/Total FP",
          "Hombres",
          "Mujeres"
         ],
         "labels": [
          "26-35 años",
          "26-35 años",
          "26-35 años",
          "26-35 años",
          "26-35 años",
          "26-35 años",
          "26-35 años",
          "26-35 años",
          "16-25 años",
          "16-25 años",
          "16-25 años",
          "16-25 años",
          "16-25 años",
          "16-25 años",
          "16-25 años",
          "16-25 años",
          "16-25 años",
          "26-35 años",
          "26-35 años",
          "16-25 años",
          "26-35 años",
          "26-35 años",
          "26-35 años",
          "26-35 años",
          "16-25 años",
          "16-25 años",
          "16-25 años",
          "16-25 años",
          "Bachillerato",
          "Bachillerato",
          "Educación Universitaria",
          "Educación Universitaria",
          "FP Básica",
          "FP Básica",
          "FP Grado Medio",
          "FP Grado Medio",
          "FP Grado Superior",
          "FP Grado Superior",
          "Hasta educación obligatoria",
          "Hasta educación obligatoria",
          "Total FP",
          "Total FP",
          "Hombres",
          "Mujeres"
         ],
         "marker": {
          "colors": [
           "#636efa",
           "#636efa",
           "#EF553B",
           "#EF553B",
           "#00cc96",
           "#ab63fa",
           "#ab63fa",
           "#00cc96",
           "#FFA15A",
           "#FFA15A",
           "#EF553B",
           "#EF553B",
           "#636efa",
           "#636efa",
           "#ab63fa",
           "#ab63fa",
           "#00cc96",
           "#19d3f3",
           "#19d3f3",
           "#00cc96",
           "#FF6692",
           "#FFA15A",
           "#FFA15A",
           "#FF6692",
           "#FF6692",
           "#FF6692",
           "#19d3f3",
           "#19d3f3",
           "#19d3f3",
           "#19d3f3",
           "#FF6692",
           "#FF6692",
           "#FFA15A",
           "#FFA15A",
           "#EF553B",
           "#EF553B",
           "#636efa",
           "#636efa",
           "#ab63fa",
           "#ab63fa",
           "#00cc96",
           "#00cc96",
           "#B6E880",
           "#B6E880"
          ]
         },
         "name": "",
         "parents": [
          "Mujeres/FP Grado Superior",
          "Hombres/FP Grado Superior",
          "Mujeres/FP Grado Medio",
          "Hombres/FP Grado Medio",
          "Mujeres/Total FP",
          "Mujeres/Hasta educación obligatoria",
          "Hombres/Hasta educación obligatoria",
          "Hombres/Total FP",
          "Hombres/FP Básica",
          "Mujeres/FP Básica",
          "Hombres/FP Grado Medio",
          "Mujeres/FP Grado Medio",
          "Hombres/FP Grado Superior",
          "Mujeres/FP Grado Superior",
          "Hombres/Hasta educación obligatoria",
          "Mujeres/Hasta educación obligatoria",
          "Mujeres/Total FP",
          "Mujeres/Bachillerato",
          "Hombres/Bachillerato",
          "Hombres/Total FP",
          "Mujeres/Educación Universitaria",
          "Hombres/FP Básica",
          "Mujeres/FP Básica",
          "Hombres/Educación Universitaria",
          "Mujeres/Educación Universitaria",
          "Hombres/Educación Universitaria",
          "Mujeres/Bachillerato",
          "Hombres/Bachillerato",
          "Hombres",
          "Mujeres",
          "Hombres",
          "Mujeres",
          "Hombres",
          "Mujeres",
          "Hombres",
          "Mujeres",
          "Hombres",
          "Mujeres",
          "Hombres",
          "Mujeres",
          "Hombres",
          "Mujeres",
          "",
          ""
         ],
         "type": "sunburst",
         "values": [
          12.99,
          7.66,
          15.44,
          13.28,
          14.06,
          26.25,
          16.98,
          10.16,
          45.9,
          37.18,
          23.16,
          28.18,
          18.16,
          20.17,
          37.17,
          39.25,
          24.1,
          18.1,
          14.21,
          21.37,
          8.41,
          34.31,
          24.58,
          7.31,
          16.94,
          17.31,
          26.98,
          21.85,
          36.06,
          45.08,
          24.619999999999997,
          25.35,
          80.21000000000001,
          61.76,
          36.44,
          43.62,
          25.82,
          33.160000000000004,
          54.150000000000006,
          65.5,
          31.53,
          38.160000000000004,
          288.83,
          312.63
         ]
        }
       ],
       "layout": {
        "height": 800,
        "legend": {
         "tracegroupgap": 0
        },
        "margin": {
         "t": 60
        },
        "template": {
         "data": {
          "bar": [
           {
            "error_x": {
             "color": "#2a3f5f"
            },
            "error_y": {
             "color": "#2a3f5f"
            },
            "marker": {
             "line": {
              "color": "#E5ECF6",
              "width": 0.5
             },
             "pattern": {
              "fillmode": "overlay",
              "size": 10,
              "solidity": 0.2
             }
            },
            "type": "bar"
           }
          ],
          "barpolar": [
           {
            "marker": {
             "line": {
              "color": "#E5ECF6",
              "width": 0.5
             },
             "pattern": {
              "fillmode": "overlay",
              "size": 10,
              "solidity": 0.2
             }
            },
            "type": "barpolar"
           }
          ],
          "carpet": [
           {
            "aaxis": {
             "endlinecolor": "#2a3f5f",
             "gridcolor": "white",
             "linecolor": "white",
             "minorgridcolor": "white",
             "startlinecolor": "#2a3f5f"
            },
            "baxis": {
             "endlinecolor": "#2a3f5f",
             "gridcolor": "white",
             "linecolor": "white",
             "minorgridcolor": "white",
             "startlinecolor": "#2a3f5f"
            },
            "type": "carpet"
           }
          ],
          "choropleth": [
           {
            "colorbar": {
             "outlinewidth": 0,
             "ticks": ""
            },
            "type": "choropleth"
           }
          ],
          "contour": [
           {
            "colorbar": {
             "outlinewidth": 0,
             "ticks": ""
            },
            "colorscale": [
             [
              0,
              "#0d0887"
             ],
             [
              0.1111111111111111,
              "#46039f"
             ],
             [
              0.2222222222222222,
              "#7201a8"
             ],
             [
              0.3333333333333333,
              "#9c179e"
             ],
             [
              0.4444444444444444,
              "#bd3786"
             ],
             [
              0.5555555555555556,
              "#d8576b"
             ],
             [
              0.6666666666666666,
              "#ed7953"
             ],
             [
              0.7777777777777778,
              "#fb9f3a"
             ],
             [
              0.8888888888888888,
              "#fdca26"
             ],
             [
              1,
              "#f0f921"
             ]
            ],
            "type": "contour"
           }
          ],
          "contourcarpet": [
           {
            "colorbar": {
             "outlinewidth": 0,
             "ticks": ""
            },
            "type": "contourcarpet"
           }
          ],
          "heatmap": [
           {
            "colorbar": {
             "outlinewidth": 0,
             "ticks": ""
            },
            "colorscale": [
             [
              0,
              "#0d0887"
             ],
             [
              0.1111111111111111,
              "#46039f"
             ],
             [
              0.2222222222222222,
              "#7201a8"
             ],
             [
              0.3333333333333333,
              "#9c179e"
             ],
             [
              0.4444444444444444,
              "#bd3786"
             ],
             [
              0.5555555555555556,
              "#d8576b"
             ],
             [
              0.6666666666666666,
              "#ed7953"
             ],
             [
              0.7777777777777778,
              "#fb9f3a"
             ],
             [
              0.8888888888888888,
              "#fdca26"
             ],
             [
              1,
              "#f0f921"
             ]
            ],
            "type": "heatmap"
           }
          ],
          "heatmapgl": [
           {
            "colorbar": {
             "outlinewidth": 0,
             "ticks": ""
            },
            "colorscale": [
             [
              0,
              "#0d0887"
             ],
             [
              0.1111111111111111,
              "#46039f"
             ],
             [
              0.2222222222222222,
              "#7201a8"
             ],
             [
              0.3333333333333333,
              "#9c179e"
             ],
             [
              0.4444444444444444,
              "#bd3786"
             ],
             [
              0.5555555555555556,
              "#d8576b"
             ],
             [
              0.6666666666666666,
              "#ed7953"
             ],
             [
              0.7777777777777778,
              "#fb9f3a"
             ],
             [
              0.8888888888888888,
              "#fdca26"
             ],
             [
              1,
              "#f0f921"
             ]
            ],
            "type": "heatmapgl"
           }
          ],
          "histogram": [
           {
            "marker": {
             "pattern": {
              "fillmode": "overlay",
              "size": 10,
              "solidity": 0.2
             }
            },
            "type": "histogram"
           }
          ],
          "histogram2d": [
           {
            "colorbar": {
             "outlinewidth": 0,
             "ticks": ""
            },
            "colorscale": [
             [
              0,
              "#0d0887"
             ],
             [
              0.1111111111111111,
              "#46039f"
             ],
             [
              0.2222222222222222,
              "#7201a8"
             ],
             [
              0.3333333333333333,
              "#9c179e"
             ],
             [
              0.4444444444444444,
              "#bd3786"
             ],
             [
              0.5555555555555556,
              "#d8576b"
             ],
             [
              0.6666666666666666,
              "#ed7953"
             ],
             [
              0.7777777777777778,
              "#fb9f3a"
             ],
             [
              0.8888888888888888,
              "#fdca26"
             ],
             [
              1,
              "#f0f921"
             ]
            ],
            "type": "histogram2d"
           }
          ],
          "histogram2dcontour": [
           {
            "colorbar": {
             "outlinewidth": 0,
             "ticks": ""
            },
            "colorscale": [
             [
              0,
              "#0d0887"
             ],
             [
              0.1111111111111111,
              "#46039f"
             ],
             [
              0.2222222222222222,
              "#7201a8"
             ],
             [
              0.3333333333333333,
              "#9c179e"
             ],
             [
              0.4444444444444444,
              "#bd3786"
             ],
             [
              0.5555555555555556,
              "#d8576b"
             ],
             [
              0.6666666666666666,
              "#ed7953"
             ],
             [
              0.7777777777777778,
              "#fb9f3a"
             ],
             [
              0.8888888888888888,
              "#fdca26"
             ],
             [
              1,
              "#f0f921"
             ]
            ],
            "type": "histogram2dcontour"
           }
          ],
          "mesh3d": [
           {
            "colorbar": {
             "outlinewidth": 0,
             "ticks": ""
            },
            "type": "mesh3d"
           }
          ],
          "parcoords": [
           {
            "line": {
             "colorbar": {
              "outlinewidth": 0,
              "ticks": ""
             }
            },
            "type": "parcoords"
           }
          ],
          "pie": [
           {
            "automargin": true,
            "type": "pie"
           }
          ],
          "scatter": [
           {
            "fillpattern": {
             "fillmode": "overlay",
             "size": 10,
             "solidity": 0.2
            },
            "type": "scatter"
           }
          ],
          "scatter3d": [
           {
            "line": {
             "colorbar": {
              "outlinewidth": 0,
              "ticks": ""
             }
            },
            "marker": {
             "colorbar": {
              "outlinewidth": 0,
              "ticks": ""
             }
            },
            "type": "scatter3d"
           }
          ],
          "scattercarpet": [
           {
            "marker": {
             "colorbar": {
              "outlinewidth": 0,
              "ticks": ""
             }
            },
            "type": "scattercarpet"
           }
          ],
          "scattergeo": [
           {
            "marker": {
             "colorbar": {
              "outlinewidth": 0,
              "ticks": ""
             }
            },
            "type": "scattergeo"
           }
          ],
          "scattergl": [
           {
            "marker": {
             "colorbar": {
              "outlinewidth": 0,
              "ticks": ""
             }
            },
            "type": "scattergl"
           }
          ],
          "scattermapbox": [
           {
            "marker": {
             "colorbar": {
              "outlinewidth": 0,
              "ticks": ""
             }
            },
            "type": "scattermapbox"
           }
          ],
          "scatterpolar": [
           {
            "marker": {
             "colorbar": {
              "outlinewidth": 0,
              "ticks": ""
             }
            },
            "type": "scatterpolar"
           }
          ],
          "scatterpolargl": [
           {
            "marker": {
             "colorbar": {
              "outlinewidth": 0,
              "ticks": ""
             }
            },
            "type": "scatterpolargl"
           }
          ],
          "scatterternary": [
           {
            "marker": {
             "colorbar": {
              "outlinewidth": 0,
              "ticks": ""
             }
            },
            "type": "scatterternary"
           }
          ],
          "surface": [
           {
            "colorbar": {
             "outlinewidth": 0,
             "ticks": ""
            },
            "colorscale": [
             [
              0,
              "#0d0887"
             ],
             [
              0.1111111111111111,
              "#46039f"
             ],
             [
              0.2222222222222222,
              "#7201a8"
             ],
             [
              0.3333333333333333,
              "#9c179e"
             ],
             [
              0.4444444444444444,
              "#bd3786"
             ],
             [
              0.5555555555555556,
              "#d8576b"
             ],
             [
              0.6666666666666666,
              "#ed7953"
             ],
             [
              0.7777777777777778,
              "#fb9f3a"
             ],
             [
              0.8888888888888888,
              "#fdca26"
             ],
             [
              1,
              "#f0f921"
             ]
            ],
            "type": "surface"
           }
          ],
          "table": [
           {
            "cells": {
             "fill": {
              "color": "#EBF0F8"
             },
             "line": {
              "color": "white"
             }
            },
            "header": {
             "fill": {
              "color": "#C8D4E3"
             },
             "line": {
              "color": "white"
             }
            },
            "type": "table"
           }
          ]
         },
         "layout": {
          "annotationdefaults": {
           "arrowcolor": "#2a3f5f",
           "arrowhead": 0,
           "arrowwidth": 1
          },
          "autotypenumbers": "strict",
          "coloraxis": {
           "colorbar": {
            "outlinewidth": 0,
            "ticks": ""
           }
          },
          "colorscale": {
           "diverging": [
            [
             0,
             "#8e0152"
            ],
            [
             0.1,
             "#c51b7d"
            ],
            [
             0.2,
             "#de77ae"
            ],
            [
             0.3,
             "#f1b6da"
            ],
            [
             0.4,
             "#fde0ef"
            ],
            [
             0.5,
             "#f7f7f7"
            ],
            [
             0.6,
             "#e6f5d0"
            ],
            [
             0.7,
             "#b8e186"
            ],
            [
             0.8,
             "#7fbc41"
            ],
            [
             0.9,
             "#4d9221"
            ],
            [
             1,
             "#276419"
            ]
           ],
           "sequential": [
            [
             0,
             "#0d0887"
            ],
            [
             0.1111111111111111,
             "#46039f"
            ],
            [
             0.2222222222222222,
             "#7201a8"
            ],
            [
             0.3333333333333333,
             "#9c179e"
            ],
            [
             0.4444444444444444,
             "#bd3786"
            ],
            [
             0.5555555555555556,
             "#d8576b"
            ],
            [
             0.6666666666666666,
             "#ed7953"
            ],
            [
             0.7777777777777778,
             "#fb9f3a"
            ],
            [
             0.8888888888888888,
             "#fdca26"
            ],
            [
             1,
             "#f0f921"
            ]
           ],
           "sequentialminus": [
            [
             0,
             "#0d0887"
            ],
            [
             0.1111111111111111,
             "#46039f"
            ],
            [
             0.2222222222222222,
             "#7201a8"
            ],
            [
             0.3333333333333333,
             "#9c179e"
            ],
            [
             0.4444444444444444,
             "#bd3786"
            ],
            [
             0.5555555555555556,
             "#d8576b"
            ],
            [
             0.6666666666666666,
             "#ed7953"
            ],
            [
             0.7777777777777778,
             "#fb9f3a"
            ],
            [
             0.8888888888888888,
             "#fdca26"
            ],
            [
             1,
             "#f0f921"
            ]
           ]
          },
          "colorway": [
           "#636efa",
           "#EF553B",
           "#00cc96",
           "#ab63fa",
           "#FFA15A",
           "#19d3f3",
           "#FF6692",
           "#B6E880",
           "#FF97FF",
           "#FECB52"
          ],
          "font": {
           "color": "#2a3f5f"
          },
          "geo": {
           "bgcolor": "white",
           "lakecolor": "white",
           "landcolor": "#E5ECF6",
           "showlakes": true,
           "showland": true,
           "subunitcolor": "white"
          },
          "hoverlabel": {
           "align": "left"
          },
          "hovermode": "closest",
          "mapbox": {
           "style": "light"
          },
          "paper_bgcolor": "white",
          "plot_bgcolor": "#E5ECF6",
          "polar": {
           "angularaxis": {
            "gridcolor": "white",
            "linecolor": "white",
            "ticks": ""
           },
           "bgcolor": "#E5ECF6",
           "radialaxis": {
            "gridcolor": "white",
            "linecolor": "white",
            "ticks": ""
           }
          },
          "scene": {
           "xaxis": {
            "backgroundcolor": "#E5ECF6",
            "gridcolor": "white",
            "gridwidth": 2,
            "linecolor": "white",
            "showbackground": true,
            "ticks": "",
            "zerolinecolor": "white"
           },
           "yaxis": {
            "backgroundcolor": "#E5ECF6",
            "gridcolor": "white",
            "gridwidth": 2,
            "linecolor": "white",
            "showbackground": true,
            "ticks": "",
            "zerolinecolor": "white"
           },
           "zaxis": {
            "backgroundcolor": "#E5ECF6",
            "gridcolor": "white",
            "gridwidth": 2,
            "linecolor": "white",
            "showbackground": true,
            "ticks": "",
            "zerolinecolor": "white"
           }
          },
          "shapedefaults": {
           "line": {
            "color": "#2a3f5f"
           }
          },
          "ternary": {
           "aaxis": {
            "gridcolor": "white",
            "linecolor": "white",
            "ticks": ""
           },
           "baxis": {
            "gridcolor": "white",
            "linecolor": "white",
            "ticks": ""
           },
           "bgcolor": "#E5ECF6",
           "caxis": {
            "gridcolor": "white",
            "linecolor": "white",
            "ticks": ""
           }
          },
          "title": {
           "x": 0.05
          },
          "xaxis": {
           "automargin": true,
           "gridcolor": "white",
           "linecolor": "white",
           "ticks": "",
           "title": {
            "standoff": 15
           },
           "zerolinecolor": "white",
           "zerolinewidth": 2
          },
          "yaxis": {
           "automargin": true,
           "gridcolor": "white",
           "linecolor": "white",
           "ticks": "",
           "title": {
            "standoff": 15
           },
           "zerolinecolor": "white",
           "zerolinewidth": 2
          }
         }
        },
        "width": 800
       }
      },
      "image/png": "[encoded data removed]",
      "text/html": [
       "<div>                            <div id=\"23349b83-7fe9-4e91-a295-96baaa853483\" class=\"plotly-graph-div\" style=\"height:800px; width:800px;\"></div>            <script type=\"text/javascript\">                require([\"plotly\"], function(Plotly) {                    window.PLOTLYENV=window.PLOTLYENV || {};                                    if (document.getElementById(\"23349b83-7fe9-4e91-a295-96baaa853483\")) {                    Plotly.newPlot(                        \"23349b83-7fe9-4e91-a295-96baaa853483\",                        [{\"branchvalues\":\"total\",\"customdata\":[[\"FP Grado Superior\"],[\"FP Grado Superior\"],[\"FP Grado Medio\"],[\"FP Grado Medio\"],[\"Total FP\"],[\"Hasta educaci\\u00f3n obligatoria\"],[\"Hasta educaci\\u00f3n obligatoria\"],[\"Total FP\"],[\"FP B\\u00e1sica\"],[\"FP B\\u00e1sica\"],[\"FP Grado Medio\"],[\"FP Grado Medio\"],[\"FP Grado Superior\"],[\"FP Grado Superior\"],[\"Hasta educaci\\u00f3n obligatoria\"],[\"Hasta educaci\\u00f3n obligatoria\"],[\"Total FP\"],[\"Bachillerato\"],[\"Bachillerato\"],[\"Total FP\"],[\"Educaci\\u00f3n Universitaria\"],[\"FP B\\u00e1sica\"],[\"FP B\\u00e1sica\"],[\"Educaci\\u00f3n Universitaria\"],[\"Educaci\\u00f3n Universitaria\"],[\"Educaci\\u00f3n Universitaria\"],[\"Bachillerato\"],[\"Bachillerato\"],[\"Bachillerato\"],[\"Bachillerato\"],[\"Educaci\\u00f3n Universitaria\"],[\"Educaci\\u00f3n Universitaria\"],[\"FP B\\u00e1sica\"],[\"FP B\\u00e1sica\"],[\"FP Grado Medio\"],[\"FP Grado Medio\"],[\"FP Grado Superior\"],[\"FP Grado Superior\"],[\"Hasta educaci\\u00f3n obligatoria\"],[\"Hasta educaci\\u00f3n obligatoria\"],[\"Total FP\"],[\"Total FP\"],[\"(?)\"],[\"(?)\"]],\"domain\":{\"x\":[0.0,1.0],\"y\":[0.0,1.0]},\"hovertemplate\":\"labels=%{label}\\u003cbr\\u003eTasa_paro=%{value}\\u003cbr\\u003eparent=%{parent}\\u003cbr\\u003eid=%{id}\\u003cbr\\u003eNivel_educativo=%{customdata[0]}\\u003cextra\\u003e\\u003c\\u002fextra\\u003e\",\"ids\":[\"Mujeres\\u002fFP Grado Superior\\u002f26-35 a\\u00f1os\",\"Hombres\\u002fFP Grado Superior\\u002f26-35 a\\u00f1os\",\"Mujeres\\u002fFP Grado Medio\\u002f26-35 a\\u00f1os\",\"Hombres\\u002fFP Grado Medio\\u002f26-35 a\\u00f1os\",\"Mujeres\\u002fTotal FP\\u002f26-35 a\\u00f1os\",\"Mujeres\\u002fHasta educaci\\u00f3n obligatoria\\u002f26-35 a\\u00f1os\",\"Hombres\\u002fHasta educaci\\u00f3n obligatoria\\u002f26-35 a\\u00f1os\",\"Hombres\\u002fTotal FP\\u002f26-35 a\\u00f1os\",\"Hombres\\u002fFP B\\u00e1sica\\u002f16-25 a\\u00f1os\",\"Mujeres\\u002fFP B\\u00e1sica\\u002f16-25 a\\u00f1os\",\"Hombres\\u002fFP Grado Medio\\u002f16-25 a\\u00f1os\",\"Mujeres\\u002fFP Grado Medio\\u002f16-25 a\\u00f1os\",\"Hombres\\u002fFP Grado Superior\\u002f16-25 a\\u00f1os\",\"Mujeres\\u002fFP Grado Superior\\u002f16-25 a\\u00f1os\",\"Hombres\\u002fHasta educaci\\u00f3n obligatoria\\u002f16-25 a\\u00f1os\",\"Mujeres\\u002fHasta educaci\\u00f3n obligatoria\\u002f16-25 a\\u00f1os\",\"Mujeres\\u002fTotal FP\\u002f16-25 a\\u00f1os\",\"Mujeres\\u002fBachillerato\\u002f26-35 a\\u00f1os\",\"Hombres\\u002fBachillerato\\u002f26-35 a\\u00f1os\",\"Hombres\\u002fTotal FP\\u002f16-25 a\\u00f1os\",\"Mujeres\\u002fEducaci\\u00f3n Universitaria\\u002f26-35 a\\u00f1os\",\"Hombres\\u002fFP B\\u00e1sica\\u002f26-35 a\\u00f1os\",\"Mujeres\\u002fFP B\\u00e1sica\\u002f26-35 a\\u00f1os\",\"Hombres\\u002fEducaci\\u00f3n Universitaria\\u002f26-35 a\\u00f1os\",\"Mujeres\\u002fEducaci\\u00f3n Universitaria\\u002f16-25 a\\u00f1os\",\"Hombres\\u002fEducaci\\u00f3n Universitaria\\u002f16-25 a\\u00f1os\",\"Mujeres\\u002fBachillerato\\u002f16-25 a\\u00f1os\",\"Hombres\\u002fBachillerato\\u002f16-25 a\\u00f1os\",\"Hombres\\u002fBachillerato\",\"Mujeres\\u002fBachillerato\",\"Hombres\\u002fEducaci\\u00f3n Universitaria\",\"Mujeres\\u002fEducaci\\u00f3n Universitaria\",\"Hombres\\u002fFP B\\u00e1sica\",\"Mujeres\\u002fFP B\\u00e1sica\",\"Hombres\\u002fFP Grado Medio\",\"Mujeres\\u002fFP Grado Medio\",\"Hombres\\u002fFP Grado Superior\",\"Mujeres\\u002fFP Grado Superior\",\"Hombres\\u002fHasta educaci\\u00f3n obligatoria\",\"Mujeres\\u002fHasta educaci\\u00f3n obligatoria\",\"Hombres\\u002fTotal FP\",\"Mujeres\\u002fTotal FP\",\"Hombres\",\"Mujeres\"],\"labels\":[\"26-35 a\\u00f1os\",\"26-35 a\\u00f1os\",\"26-35 a\\u00f1os\",\"26-35 a\\u00f1os\",\"26-35 a\\u00f1os\",\"26-35 a\\u00f1os\",\"26-35 a\\u00f1os\",\"26-35 a\\u00f1os\",\"16-25 a\\u00f1os\",\"16-25 a\\u00f1os\",\"16-25 a\\u00f1os\",\"16-25 a\\u00f1os\",\"16-25 a\\u00f1os\",\"16-25 a\\u00f1os\",\"16-25 a\\u00f1os\",\"16-25 a\\u00f1os\",\"16-25 a\\u00f1os\",\"26-35 a\\u00f1os\",\"26-35 a\\u00f1os\",\"16-25 a\\u00f1os\",\"26-35 a\\u00f1os\",\"26-35 a\\u00f1os\",\"26-35 a\\u00f1os\",\"26-35 a\\u00f1os\",\"16-25 a\\u00f1os\",\"16-25 a\\u00f1os\",\"16-25 a\\u00f1os\",\"16-25 a\\u00f1os\",\"Bachillerato\",\"Bachillerato\",\"Educaci\\u00f3n Universitaria\",\"Educaci\\u00f3n Universitaria\",\"FP B\\u00e1sica\",\"FP B\\u00e1sica\",\"FP Grado Medio\",\"FP Grado Medio\",\"FP Grado Superior\",\"FP Grado Superior\",\"Hasta educaci\\u00f3n obligatoria\",\"Hasta educaci\\u00f3n obligatoria\",\"Total FP\",\"Total FP\",\"Hombres\",\"Mujeres\"],\"marker\":{\"colors\":[\"#636efa\",\"#636efa\",\"#EF553B\",\"#EF553B\",\"#00cc96\",\"#ab63fa\",\"#ab63fa\",\"#00cc96\",\"#FFA15A\",\"#FFA15A\",\"#EF553B\",\"#EF553B\",\"#636efa\",\"#636efa\",\"#ab63fa\",\"#ab63fa\",\"#00cc96\",\"#19d3f3\",\"#19d3f3\",\"#00cc96\",\"#FF6692\",\"#FFA15A\",\"#FFA15A\",\"#FF6692\",\"#FF6692\",\"#FF6692\",\"#19d3f3\",\"#19d3f3\",\"#19d3f3\",\"#19d3f3\",\"#FF6692\",\"#FF6692\",\"#FFA15A\",\"#FFA15A\",\"#EF553B\",\"#EF553B\",\"#636efa\",\"#636efa\",\"#ab63fa\",\"#ab63fa\",\"#00cc96\",\"#00cc96\",\"#B6E880\",\"#B6E880\"]},\"name\":\"\",\"parents\":[\"Mujeres\\u002fFP Grado Superior\",\"Hombres\\u002fFP Grado Superior\",\"Mujeres\\u002fFP Grado Medio\",\"Hombres\\u002fFP Grado Medio\",\"Mujeres\\u002fTotal FP\",\"Mujeres\\u002fHasta educaci\\u00f3n obligatoria\",\"Hombres\\u002fHasta educaci\\u00f3n obligatoria\",\"Hombres\\u002fTotal FP\",\"Hombres\\u002fFP B\\u00e1sica\",\"Mujeres\\u002fFP B\\u00e1sica\",\"Hombres\\u002fFP Grado Medio\",\"Mujeres\\u002fFP Grado Medio\",\"Hombres\\u002fFP Grado Superior\",\"Mujeres\\u002fFP Grado Superior\",\"Hombres\\u002fHasta educaci\\u00f3n obligatoria\",\"Mujeres\\u002fHasta educaci\\u00f3n obligatoria\",\"Mujeres\\u002fTotal FP\",\"Mujeres\\u002fBachillerato\",\"Hombres\\u002fBachillerato\",\"Hombres\\u002fTotal FP\",\"Mujeres\\u002fEducaci\\u00f3n Universitaria\",\"Hombres\\u002fFP B\\u00e1sica\",\"Mujeres\\u002fFP B\\u00e1sica\",\"Hombres\\u002fEducaci\\u00f3n Universitaria\",\"Mujeres\\u002fEducaci\\u00f3n Universitaria\",\"Hombres\\u002fEducaci\\u00f3n Universitaria\",\"Mujeres\\u002fBachillerato\",\"Hombres\\u002fBachillerato\",\"Hombres\",\"Mujeres\",\"Hombres\",\"Mujeres\",\"Hombres\",\"Mujeres\",\"Hombres\",\"Mujeres\",\"Hombres\",\"Mujeres\",\"Hombres\",\"Mujeres\",\"Hombres\",\"Mujeres\",\"\",\"\"],\"values\":[12.99,7.66,15.44,13.28,14.06,26.25,16.98,10.16,45.9,37.18,23.16,28.18,18.16,20.17,37.17,39.25,24.1,18.1,14.21,21.37,8.41,34.31,24.58,7.31,16.94,17.31,26.98,21.85,36.06,45.08,24.619999999999997,25.35,80.21000000000001,61.76,36.44,43.62,25.82,33.160000000000004,54.150000000000006,65.5,31.53,38.160000000000004,288.83,312.63],\"type\":\"sunburst\"}],                        {\"template\":{\"data\":{\"histogram2dcontour\":[{\"type\":\"histogram2dcontour\",\"colorbar\":{\"outlinewidth\":0,\"ticks\":\"\"},\"colorscale\":[[0.0,\"#0d0887\"],[0.1111111111111111,\"#46039f\"],[0.2222222222222222,\"#7201a8\"],[0.3333333333333333,\"#9c179e\"],[0.4444444444444444,\"#bd3786\"],[0.5555555555555556,\"#d8576b\"],[0.6666666666666666,\"#ed7953\"],[0.7777777777777778,\"#fb9f3a\"],[0.8888888888888888,\"#fdca26\"],[1.0,\"#f0f921\"]]}],\"choropleth\":[{\"type\":\"choropleth\",\"colorbar\":{\"outlinewidth\":0,\"ticks\":\"\"}}],\"histogram2d\":[{\"type\":\"histogram2d\",\"colorbar\":{\"outlinewidth\":0,\"ticks\":\"\"},\"colorscale\":[[0.0,\"#0d0887\"],[0.1111111111111111,\"#46039f\"],[0.2222222222222222,\"#7201a8\"],[0.3333333333333333,\"#9c179e\"],[0.4444444444444444,\"#bd3786\"],[0.5555555555555556,\"#d8576b\"],[0.6666666666666666,\"#ed7953\"],[0.7777777777777778,\"#fb9f3a\"],[0.8888888888888888,\"#fdca26\"],[1.0,\"#f0f921\"]]}],\"heatmap\":[{\"type\":\"heatmap\",\"colorbar\":{\"outlinewidth\":0,\"ticks\":\"\"},\"colorscale\":[[0.0,\"#0d0887\"],[0.1111111111111111,\"#46039f\"],[0.2222222222222222,\"#7201a8\"],[0.3333333333333333,\"#9c179e\"],[0.4444444444444444,\"#bd3786\"],[0.5555555555555556,\"#d8576b\"],[0.6666666666666666,\"#ed7953\"],[0.7777777777777778,\"#fb9f3a\"],[0.8888888888888888,\"#fdca26\"],[1.0,\"#f0f921\"]]}],\"heatmapgl\":[{\"type\":\"heatmapgl\",\"colorbar\":{\"outlinewidth\":0,\"ticks\":\"\"},\"colorscale\":[[0.0,\"#0d0887\"],[0.1111111111111111,\"#46039f\"],[0.2222222222222222,\"#7201a8\"],[0.3333333333333333,\"#9c179e\"],[0.4444444444444444,\"#bd3786\"],[0.5555555555555556,\"#d8576b\"],[0.6666666666666666,\"#ed7953\"],[0.7777777777777778,\"#fb9f3a\"],[0.8888888888888888,\"#fdca26\"],[1.0,\"#f0f921\"]]}],\"contourcarpet\":[{\"type\":\"contourcarpet\",\"colorbar\":{\"outlinewidth\":0,\"ticks\":\"\"}}],\"contour\":[{\"type\":\"contour\",\"colorbar\":{\"outlinewidth\":0,\"ticks\":\"\"},\"colorscale\":[[0.0,\"#0d0887\"],[0.1111111111111111,\"#46039f\"],[0.2222222222222222,\"#7201a8\"],[0.3333333333333333,\"#9c179e\"],[0.4444444444444444,\"#bd3786\"],[0.5555555555555556,\"#d8576b\"],[0.6666666666666666,\"#ed7953\"],[0.7777777777777778,\"#fb9f3a\"],[0.8888888888888888,\"#fdca26\"],[1.0,\"#f0f921\"]]}],\"surface\":[{\"type\":\"surface\",\"colorbar\":{\"outlinewidth\":0,\"ticks\":\"\"},\"colorscale\":[[0.0,\"#0d0887\"],[0.1111111111111111,\"#46039f\"],[0.2222222222222222,\"#7201a8\"],[0.3333333333333333,\"#9c179e\"],[0.4444444444444444,\"#bd3786\"],[0.5555555555555556,\"#d8576b\"],[0.6666666666666666,\"#ed7953\"],[0.7777777777777778,\"#fb9f3a\"],[0.8888888888888888,\"#fdca26\"],[1.0,\"#f0f921\"]]}],\"mesh3d\":[{\"type\":\"mesh3d\",\"colorbar\":{\"outlinewidth\":0,\"ticks\":\"\"}}],\"scatter\":[{\"fillpattern\":{\"fillmode\":\"overlay\",\"size\":10,\"solidity\":0.2},\"type\":\"scatter\"}],\"parcoords\":[{\"type\":\"parcoords\",\"line\":{\"colorbar\":{\"outlinewidth\":0,\"ticks\":\"\"}}}],\"scatterpolargl\":[{\"type\":\"scatterpolargl\",\"marker\":{\"colorbar\":{\"outlinewidth\":0,\"ticks\":\"\"}}}],\"bar\":[{\"error_x\":{\"color\":\"#2a3f5f\"},\"error_y\":{\"color\":\"#2a3f5f\"},\"marker\":{\"line\":{\"color\":\"#E5ECF6\",\"width\":0.5},\"pattern\":{\"fillmode\":\"overlay\",\"size\":10,\"solidity\":0.2}},\"type\":\"bar\"}],\"scattergeo\":[{\"type\":\"scattergeo\",\"marker\":{\"colorbar\":{\"outlinewidth\":0,\"ticks\":\"\"}}}],\"scatterpolar\":[{\"type\":\"scatterpolar\",\"marker\":{\"colorbar\":{\"outlinewidth\":0,\"ticks\":\"\"}}}],\"histogram\":[{\"marker\":{\"pattern\":{\"fillmode\":\"overlay\",\"size\":10,\"solidity\":0.2}},\"type\":\"histogram\"}],\"scattergl\":[{\"type\":\"scattergl\",\"marker\":{\"colorbar\":{\"outlinewidth\":0,\"ticks\":\"\"}}}],\"scatter3d\":[{\"type\":\"scatter3d\",\"line\":{\"colorbar\":{\"outlinewidth\":0,\"ticks\":\"\"}},\"marker\":{\"colorbar\":{\"outlinewidth\":0,\"ticks\":\"\"}}}],\"scattermapbox\":[{\"type\":\"scattermapbox\",\"marker\":{\"colorbar\":{\"outlinewidth\":0,\"ticks\":\"\"}}}],\"scatterternary\":[{\"type\":\"scatterternary\",\"marker\":{\"colorbar\":{\"outlinewidth\":0,\"ticks\":\"\"}}}],\"scattercarpet\":[{\"type\":\"scattercarpet\",\"marker\":{\"colorbar\":{\"outlinewidth\":0,\"ticks\":\"\"}}}],\"carpet\":[{\"aaxis\":{\"endlinecolor\":\"#2a3f5f\",\"gridcolor\":\"white\",\"linecolor\":\"white\",\"minorgridcolor\":\"white\",\"startlinecolor\":\"#2a3f5f\"},\"baxis\":{\"endlinecolor\":\"#2a3f5f\",\"gridcolor\":\"white\",\"linecolor\":\"white\",\"minorgridcolor\":\"white\",\"startlinecolor\":\"#2a3f5f\"},\"type\":\"carpet\"}],\"table\":[{\"cells\":{\"fill\":{\"color\":\"#EBF0F8\"},\"line\":{\"color\":\"white\"}},\"header\":{\"fill\":{\"color\":\"#C8D4E3\"},\"line\":{\"color\":\"white\"}},\"type\":\"table\"}],\"barpolar\":[{\"marker\":{\"line\":{\"color\":\"#E5ECF6\",\"width\":0.5},\"pattern\":{\"fillmode\":\"overlay\",\"size\":10,\"solidity\":0.2}},\"type\":\"barpolar\"}],\"pie\":[{\"automargin\":true,\"type\":\"pie\"}]},\"layout\":{\"autotypenumbers\":\"strict\",\"colorway\":[\"#636efa\",\"#EF553B\",\"#00cc96\",\"#ab63fa\",\"#FFA15A\",\"#19d3f3\",\"#FF6692\",\"#B6E880\",\"#FF97FF\",\"#FECB52\"],\"font\":{\"color\":\"#2a3f5f\"},\"hovermode\":\"closest\",\"hoverlabel\":{\"align\":\"left\"},\"paper_bgcolor\":\"white\",\"plot_bgcolor\":\"#E5ECF6\",\"polar\":{\"bgcolor\":\"#E5ECF6\",\"angularaxis\":{\"gridcolor\":\"white\",\"linecolor\":\"white\",\"ticks\":\"\"},\"radialaxis\":{\"gridcolor\":\"white\",\"linecolor\":\"white\",\"ticks\":\"\"}},\"ternary\":{\"bgcolor\":\"#E5ECF6\",\"aaxis\":{\"gridcolor\":\"white\",\"linecolor\":\"white\",\"ticks\":\"\"},\"baxis\":{\"gridcolor\":\"white\",\"linecolor\":\"white\",\"ticks\":\"\"},\"caxis\":{\"gridcolor\":\"white\",\"linecolor\":\"white\",\"ticks\":\"\"}},\"coloraxis\":{\"colorbar\":{\"outlinewidth\":0,\"ticks\":\"\"}},\"colorscale\":{\"sequential\":[[0.0,\"#0d0887\"],[0.1111111111111111,\"#46039f\"],[0.2222222222222222,\"#7201a8\"],[0.3333333333333333,\"#9c179e\"],[0.4444444444444444,\"#bd3786\"],[0.5555555555555556,\"#d8576b\"],[0.6666666666666666,\"#ed7953\"],[0.7777777777777778,\"#fb9f3a\"],[0.8888888888888888,\"#fdca26\"],[1.0,\"#f0f921\"]],\"sequentialminus\":[[0.0,\"#0d0887\"],[0.1111111111111111,\"#46039f\"],[0.2222222222222222,\"#7201a8\"],[0.3333333333333333,\"#9c179e\"],[0.4444444444444444,\"#bd3786\"],[0.5555555555555556,\"#d8576b\"],[0.6666666666666666,\"#ed7953\"],[0.7777777777777778,\"#fb9f3a\"],[0.8888888888888888,\"#fdca26\"],[1.0,\"#f0f921\"]],\"diverging\":[[0,\"#8e0152\"],[0.1,\"#c51b7d\"],[0.2,\"#de77ae\"],[0.3,\"#f1b6da\"],[0.4,\"#fde0ef\"],[0.5,\"#f7f7f7\"],[0.6,\"#e6f5d0\"],[0.7,\"#b8e186\"],[0.8,\"#7fbc41\"],[0.9,\"#4d9221\"],[1,\"#276419\"]]},\"xaxis\":{\"gridcolor\":\"white\",\"linecolor\":\"white\",\"ticks\":\"\",\"title\":{\"standoff\":15},\"zerolinecolor\":\"white\",\"automargin\":true,\"zerolinewidth\":2},\"yaxis\":{\"gridcolor\":\"white\",\"linecolor\":\"white\",\"ticks\":\"\",\"title\":{\"standoff\":15},\"zerolinecolor\":\"white\",\"automargin\":true,\"zerolinewidth\":2},\"scene\":{\"xaxis\":{\"backgroundcolor\":\"#E5ECF6\",\"gridcolor\":\"white\",\"linecolor\":\"white\",\"showbackground\":true,\"ticks\":\"\",\"zerolinecolor\":\"white\",\"gridwidth\":2},\"yaxis\":{\"backgroundcolor\":\"#E5ECF6\",\"gridcolor\":\"white\",\"linecolor\":\"white\",\"showbackground\":true,\"ticks\":\"\",\"zerolinecolor\":\"white\",\"gridwidth\":2},\"zaxis\":{\"backgroundcolor\":\"#E5ECF6\",\"gridcolor\":\"white\",\"linecolor\":\"white\",\"showbackground\":true,\"ticks\":\"\",\"zerolinecolor\":\"white\",\"gridwidth\":2}},\"shapedefaults\":{\"line\":{\"color\":\"#2a3f5f\"}},\"annotationdefaults\":{\"arrowcolor\":\"#2a3f5f\",\"arrowhead\":0,\"arrowwidth\":1},\"geo\":{\"bgcolor\":\"white\",\"landcolor\":\"#E5ECF6\",\"subunitcolor\":\"white\",\"showland\":true,\"showlakes\":true,\"lakecolor\":\"white\"},\"title\":{\"x\":0.05},\"mapbox\":{\"style\":\"light\"}}},\"legend\":{\"tracegroupgap\":0},\"margin\":{\"t\":60},\"height\":800,\"width\":800},                        {\"responsive\": true}                    ).then(function(){\n",
       "                            \n",
       "var gd = document.getElementById('23349b83-7fe9-4e91-a295-96baaa853483');\n",
       "var x = new MutationObserver(function (mutations, observer) {{\n",
       "        var display = window.getComputedStyle(gd).display;\n",
       "        if (!display || display === 'none') {{\n",
       "            console.log([gd, 'removed!']);\n",
       "            Plotly.purge(gd);\n",
       "            observer.disconnect();\n",
       "        }}\n",
       "}});\n",
       "\n",
       "// Listen for the removal of the full notebook cells\n",
       "var notebookContainer = gd.closest('#notebook-container');\n",
       "if (notebookContainer) {{\n",
       "    x.observe(notebookContainer, {childList: true});\n",
       "}}\n",
       "\n",
       "// Listen for the clearing of the current output cell\n",
       "var outputEl = gd.closest('.output');\n",
       "if (outputEl) {{\n",
       "    x.observe(outputEl, {childList: true});\n",
       "}}\n",
       "\n",
       "                        })                };                });            </script>        </div>"
      ]
     },
     "metadata": {},
     "output_type": "display_data"
    }
   ],
   "source": [
    "df = pd.read_excel('C:\\\\Users\\\\guill\\\\Desktop\\\\paro_juvenil.xlsx')\n",
    "fig = px.sunburst(df, path=['Sexo', 'Nivel_educativo', 'Edad'], values='Tasa_paro', color='Nivel_educativo', width=800, height=800)\n",
    "fig.show()\n",
    "\n",
    "with open('index.html', 'w') as f:\n",
    "    f.write(fig.to_html(include_plotlyjs='cdn'))"
   ]
  }
 ],
 "metadata": {
  "kernelspec": {
   "display_name": "Python 3 (ipykernel)",
   "language": "python",
   "name": "python3"
  },
  "language_info": {
   "codemirror_mode": {
    "name": "ipython",
    "version": 3
   },
   "file_extension": ".py",
   "mimetype": "text/x-python",
   "name": "python",
   "nbconvert_exporter": "python",
   "pygments_lexer": "ipython3",
   "version": "3.12.2"
  }
 },
 "nbformat": 4,
 "nbformat_minor": 5
}
