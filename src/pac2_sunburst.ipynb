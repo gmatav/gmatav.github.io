{
 "cells": [
  {
   "cell_type": "code",
   "execution_count": null,
   "id": "5a00b42b-ea42-4b7a-bbfa-479f8c740907",
   "metadata": {},
   "outputs": [],
   "source": [
    "%pip install plotly\n",
    "%pip install joypy\n",
    "%pip install openpyxl"
   ]
  },
  {
   "cell_type": "code",
   "execution_count": null,
   "id": "578af7d7-f44a-4226-9193-4c0f3e598163",
   "metadata": {},
   "outputs": [],
   "source": [
    "import plotly.express as px\n",
    "import pandas as pd\n"
   ]
  },
  {
   "cell_type": "code",
   "execution_count": null,
   "id": "1504ad8e-9d62-462d-8a46-328454b545b7",
   "metadata": {
    "scrolled": true
   },
   "outputs": [],
   "source": [
    "df = pd.read_excel('paro_juvenil.xlsx')\n",
    "fig = px.sunburst(df, path=['Sexo', 'Nivel_educativo', 'Edad'], values='Tasa_paro', color='Nivel_educativo', width=800, height=800)\n",
    "fig.show()\n",
    "\n",
    "with open('index.html', 'w') as f:\n",
    "    f.write(fig.to_html(include_plotlyjs='cdn'))"
   ]
  }
 ],
 "metadata": {
  "kernelspec": {
   "display_name": "Python 3 (ipykernel)",
   "language": "python",
   "name": "python3"
  },
  "language_info": {
   "codemirror_mode": {
    "name": "ipython",
    "version": 3
   },
   "file_extension": ".py",
   "mimetype": "text/x-python",
   "name": "python",
   "nbconvert_exporter": "python",
   "pygments_lexer": "ipython3",
   "version": "3.12.2"
  }
 },
 "nbformat": 4,
 "nbformat_minor": 5
}
